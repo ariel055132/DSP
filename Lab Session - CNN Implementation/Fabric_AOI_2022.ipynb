{
  "nbformat": 4,
  "nbformat_minor": 0,
  "metadata": {
    "colab": {
      "name": "Fabric_AOI_2022.ipynb",
      "provenance": [],
      "collapsed_sections": []
    },
    "kernelspec": {
      "name": "python3",
      "display_name": "Python 3"
    },
    "language_info": {
      "name": "python"
    }
  },
  "cells": [
    {
      "cell_type": "code",
      "metadata": {
        "id": "us2zIU65Lw-h"
      },
      "source": [
        "# STEP 0\n",
        "import numpy as np\n",
        "from sklearn.model_selection import train_test_split\n",
        "from sklearn.metrics import f1_score, confusion_matrix\n",
        "from tensorflow.keras.optimizers import Adam\n",
        "from tensorflow.keras.models import Sequential\n",
        "from tensorflow.keras.layers import Conv2D, MaxPooling2D, Dense, Dropout, Activation, Flatten\n",
        "from tensorflow.keras.constraints import unit_norm\n",
        "import matplotlib.pyplot as plt"
      ],
      "execution_count": 1,
      "outputs": []
    },
    {
      "cell_type": "code",
      "metadata": {
        "id": "oNKReViaMF6J",
        "colab": {
          "base_uri": "https://localhost:8080/"
        },
        "outputId": "cccc5856-1d94-44d0-ca98-8f8b0a26e231"
      },
      "source": [
        "# STEP 1\n",
        "x = np.load('images.npy')\n",
        "y = np.load('labels.npy')\n",
        "\n",
        "x = np.true_divide(x, 255)\n",
        "\n",
        "unique, counts = np.unique(y, return_counts=True)\n",
        "print(\"number of images each class: \",dict(zip(unique, counts)))\n",
        "\n",
        "x_train, x_test, y_train, y_test = train_test_split(x, y, test_size=0.1)\n",
        "x_train, x_val, y_train, y_val = train_test_split(x_train, y_train, test_size=0.1)\n",
        "\n",
        "print(\"data training: \", x_train.shape, y_train.shape)\n",
        "print(\"data validation: \", x_val.shape, y_val.shape)\n",
        "print(\"data testing: \", x_test.shape, y_test.shape)"
      ],
      "execution_count": 2,
      "outputs": [
        {
          "output_type": "stream",
          "name": "stdout",
          "text": [
            "number of images each class:  {0: 25, 1: 100}\n",
            "data training:  (100, 128, 128, 3) (100,)\n",
            "data validation:  (12, 128, 128, 3) (12,)\n",
            "data testing:  (13, 128, 128, 3) (13,)\n"
          ]
        }
      ]
    },
    {
      "cell_type": "code",
      "metadata": {
        "id": "xlBinYTZLzR6"
      },
      "source": [
        "# STEP 2\n",
        "def build_model():\n",
        "    model = Sequential()\n",
        "    model.add(Conv2D(16, (3, 3), padding=\"same\", input_shape=(128,128,3)))\n",
        "    model.add(Activation('relu'))\n",
        "    model.add(MaxPooling2D(pool_size=(3, 3)))\n",
        "    model.add(Conv2D(32, (3, 3), padding=\"same\"))\n",
        "    model.add(Activation('relu'))\n",
        "    model.add(MaxPooling2D(pool_size=(3, 3)))\n",
        "    model.add(Conv2D(64, (3, 3), padding=\"same\"))\n",
        "    model.add(Activation('relu'))\n",
        "    model.add(MaxPooling2D(pool_size=(2, 2)))\n",
        "    model.add(Conv2D(96, (2, 2), padding=\"same\"))\n",
        "    model.add(Activation('relu'))\n",
        "    model.add(MaxPooling2D(pool_size=(2, 2)))\n",
        "      \n",
        "    model.add(Flatten())\n",
        "    model.add(Dropout(0.5))\n",
        "    model.add(Dense(512, activation='relu', kernel_constraint=unit_norm()))\n",
        "    model.add(Dense(256, activation='relu', kernel_constraint=unit_norm()))\n",
        "    \n",
        "    model.add(Dense(2, activation='softmax', kernel_constraint=unit_norm()))\n",
        "    \n",
        "    model.compile(loss='sparse_categorical_crossentropy', \n",
        "                  optimizer=Adam(learning_rate=0.001, beta_1=0.9, beta_2=0.999, \n",
        "                                 epsilon=None, decay=0.0, amsgrad=False), \n",
        "                  metrics=['accuracy'])\n",
        "    \n",
        "    return model"
      ],
      "execution_count": 3,
      "outputs": []
    },
    {
      "cell_type": "code",
      "metadata": {
        "id": "1AXlqIFRMORJ",
        "colab": {
          "base_uri": "https://localhost:8080/"
        },
        "outputId": "6917eb7c-15e6-4c99-8002-7d973941bca0"
      },
      "source": [
        "# STEP 3\n",
        "model = build_model()\n",
        "model.fit(x_train, y_train, validation_data=(x_val, y_val), batch_size=32, epochs=10)"
      ],
      "execution_count": 4,
      "outputs": [
        {
          "output_type": "stream",
          "name": "stdout",
          "text": [
            "Epoch 1/10\n",
            "4/4 [==============================] - 2s 222ms/step - loss: 0.5623 - accuracy: 0.7600 - val_loss: 0.2495 - val_accuracy: 0.9167\n",
            "Epoch 2/10\n",
            "4/4 [==============================] - 1s 176ms/step - loss: 0.5219 - accuracy: 0.7800 - val_loss: 0.4335 - val_accuracy: 0.9167\n",
            "Epoch 3/10\n",
            "4/4 [==============================] - 1s 177ms/step - loss: 0.5359 - accuracy: 0.7800 - val_loss: 0.3708 - val_accuracy: 0.9167\n",
            "Epoch 4/10\n",
            "4/4 [==============================] - 1s 170ms/step - loss: 0.5134 - accuracy: 0.7800 - val_loss: 0.2636 - val_accuracy: 0.9167\n",
            "Epoch 5/10\n",
            "4/4 [==============================] - 1s 173ms/step - loss: 0.4688 - accuracy: 0.7800 - val_loss: 0.3762 - val_accuracy: 0.9167\n",
            "Epoch 6/10\n",
            "4/4 [==============================] - 1s 179ms/step - loss: 0.5019 - accuracy: 0.7800 - val_loss: 0.4196 - val_accuracy: 0.9167\n",
            "Epoch 7/10\n",
            "4/4 [==============================] - 1s 172ms/step - loss: 0.4955 - accuracy: 0.7800 - val_loss: 0.2587 - val_accuracy: 0.9167\n",
            "Epoch 8/10\n",
            "4/4 [==============================] - 1s 173ms/step - loss: 0.5102 - accuracy: 0.7800 - val_loss: 0.2343 - val_accuracy: 0.9167\n",
            "Epoch 9/10\n",
            "4/4 [==============================] - 1s 171ms/step - loss: 0.4668 - accuracy: 0.7800 - val_loss: 0.2911 - val_accuracy: 0.9167\n",
            "Epoch 10/10\n",
            "4/4 [==============================] - 1s 173ms/step - loss: 0.4495 - accuracy: 0.7800 - val_loss: 0.2862 - val_accuracy: 0.9167\n"
          ]
        },
        {
          "output_type": "execute_result",
          "data": {
            "text/plain": [
              "<keras.callbacks.History at 0x7f58f82aae50>"
            ]
          },
          "metadata": {},
          "execution_count": 4
        }
      ]
    },
    {
      "cell_type": "code",
      "metadata": {
        "id": "BA23Mv4wMQYZ",
        "colab": {
          "base_uri": "https://localhost:8080/"
        },
        "outputId": "212e06b7-e3a0-4b3f-a77d-fe60005e0bcb"
      },
      "source": [
        "# STEP 4\n",
        "print(\"\\n\\nUSING ARGMAX:\")\n",
        "\n",
        "y_pred_val = model.predict(x_val)\n",
        "y_pred_val_argmax = y_pred_val.argmax(axis=-1)\n",
        "conf_mat_val = confusion_matrix(y_val, y_pred_val_argmax)\n",
        "\n",
        "print(\"\\nvalidation confusion matrix:\\n\",conf_mat_val)\n",
        "print(\"\\nvalidation F1 score:\", f1_score(y_val, y_pred_val_argmax, pos_label=0))"
      ],
      "execution_count": 5,
      "outputs": [
        {
          "output_type": "stream",
          "name": "stdout",
          "text": [
            "\n",
            "\n",
            "USING ARGMAX:\n",
            "\n",
            "validation confusion matrix:\n",
            " [[ 0  1]\n",
            " [ 0 11]]\n",
            "\n",
            "validation F1 score: 0.0\n"
          ]
        }
      ]
    },
    {
      "cell_type": "code",
      "metadata": {
        "id": "fv2qyzH_MUgw"
      },
      "source": [
        "# STEP 5\n",
        "thresholds = np.arange(0.1,1,0.1)\n",
        "f1_val = []\n",
        "\n",
        "y_pred_val = model.predict(x_val)\n",
        "\n",
        "for th in thresholds:\n",
        "    y_pred_val_th = [1 if y_p<th else 0 for y_p in y_pred_val[:,0]]\n",
        "    f1_val.append(f1_score(y_val,y_pred_val_th, pos_label=0))"
      ],
      "execution_count": 6,
      "outputs": []
    },
    {
      "cell_type": "code",
      "metadata": {
        "id": "HMgMD2l7MXpI",
        "colab": {
          "base_uri": "https://localhost:8080/",
          "height": 355
        },
        "outputId": "3702e285-431d-4beb-a765-dcf85cac09fd"
      },
      "source": [
        "# STEP 6\n",
        "idx_best = np.argmax(f1_val)\n",
        "\n",
        "plt.plot(thresholds, f1_val, marker='o', color='blue', label='F1 val')\n",
        "plt.plot(thresholds[idx_best], f1_val[idx_best], marker='x', color='red', label=' best F1 val')\n",
        "plt.legend(loc='lower right')\n",
        "\n",
        "print(\"\\n\\nUSING THRESHOLD WITH BEST F1 SCORE:\")\n",
        "print(\"\\nBest validation F1=\", f1_val[idx_best], \"with threshold=\", thresholds[idx_best])\n",
        "\n",
        "plt.show()"
      ],
      "execution_count": 7,
      "outputs": [
        {
          "output_type": "stream",
          "name": "stdout",
          "text": [
            "\n",
            "\n",
            "USING THRESHOLD WITH BEST F1 SCORE:\n",
            "\n",
            "Best validation F1= 1.0 with threshold= 0.30000000000000004\n"
          ]
        },
        {
          "output_type": "display_data",
          "data": {
            "text/plain": [
              "<Figure size 432x288 with 1 Axes>"
            ],
            "image/png": "[encoded data removed]"
          },
          "metadata": {
            "needs_background": "light"
          }
        }
      ]
    },
    {
      "cell_type": "code",
      "source": [
        "# STEP 7\n",
        "y_pred_test = model.predict(x_test)\n",
        "\n",
        "y_pred_test_argmax = y_pred_test.argmax(axis=-1)\n",
        "print(\"\\nF1 score of the testing data with argmax =\", f1_score(y_test, y_pred_test_argmax, pos_label=0))\n",
        "\n",
        "y_pred_test_threshold = [1 if y_p<thresholds[idx_best] else 0 for y_p in y_pred_test[:,0]]\n",
        "print(\"\\nF1 score of the testing data with threshold =\", f1_score(y_test, y_pred_test_threshold, pos_label=0))"
      ],
      "metadata": {
        "id": "7yqJO-zRKIyD",
        "colab": {
          "base_uri": "https://localhost:8080/"
        },
        "outputId": "3930000a-891a-4b11-ab66-04f3cd156ee7"
      },
      "execution_count": 8,
      "outputs": [
        {
          "output_type": "stream",
          "name": "stdout",
          "text": [
            "\n",
            "F1 score of the testing data with argmax = 0.0\n",
            "\n",
            "F1 score of the testing data with threshold = 1.0\n"
          ]
        }
      ]
    }
  ]
}